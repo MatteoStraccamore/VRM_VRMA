{
 "cells": [
  {
   "cell_type": "code",
   "execution_count": 98,
   "id": "inner-import",
   "metadata": {},
   "outputs": [],
   "source": [
    "import numpy as np\n",
    "import random as ran\n",
    "import tensorflow as tf\n",
    "from tensorflow import keras\n",
    "from keras.layers import Input, Dense, Lambda\n",
    "from keras.models import Model\n",
    "from keras.utils.np_utils import to_categorical"
   ]
  },
  {
   "cell_type": "markdown",
   "id": "needed-facial",
   "metadata": {},
   "source": [
    "# 1) Create ToyModel"
   ]
  },
  {
   "cell_type": "code",
   "execution_count": 85,
   "id": "stable-routine",
   "metadata": {},
   "outputs": [
    {
     "name": "stdout",
     "output_type": "stream",
     "text": [
      "Size  disk=600.000000\n",
      "iota=0.000000\n",
      "L1,L2,L3=900.000000600.00000060.000000\n",
      "Np= 500000\n"
     ]
    }
   ],
   "source": [
    "#************** CONSTANTS ***************\n",
    "      \n",
    "pi=np.pi\n",
    "mass=0.0001 \n",
    "\n",
    "#Definisce dei file con label 10,12,13,11. A fine del vecchio programma venivano salvati questi 4 file\n",
    "#Noi siamo interessati al 10\n",
    "\n",
    "#open(10,file='toymodel.dat',status='unknown')\n",
    "#open(12,file='toymodel1-rand.dat',status='unknown')\n",
    "#open(13,file='toymodel2-rand.dat',status='unknown')\n",
    "#open(11,file='toymodel_prof.dat',status='unknown')\n",
    "\n",
    "x8=1.000000000000\n",
    "Np=500000\n",
    "Ldisc=600.\n",
    "print('Size  disk=%f' %Ldisc)\n",
    "\n",
    "iota=0. \n",
    "print('iota=%f' %iota)\n",
    "\n",
    "L1=1.5*Ldisc\n",
    "L2=1.*Ldisc\n",
    "L3=Ldisc/10.\n",
    "print('L1,L2,L3=%f%f%f' %(L1,L2,L3))\n",
    "\n",
    "#print('L1,L2,L3 [semi axis]=',L1,L2,L3) #---> non capisco\n",
    "      \n",
    "print('Np= %i' %Np)\n",
    "      \n",
    "      \n",
    "#*************************************************\n",
    "x=np.zeros((Np))\n",
    "y=np.zeros((Np))\n",
    "z=np.zeros((Np))\n",
    "r=np.zeros((Np))\n",
    "vxRd=np.zeros((Np))\n",
    "vyRd=np.zeros((Np))\n",
    "vzRd=np.zeros((Np))\n",
    "vxRt=np.zeros((Np))\n",
    "vyRt=np.zeros((Np))\n",
    "vzRt=np.zeros((Np))\n",
    "vx=np.zeros((Np))\n",
    "vy=np.zeros((Np))\n",
    "vz=np.zeros((Np))\n",
    "vtot = np.zeros((Np))\n",
    "\n",
    "x[0]=0.\n",
    "y[0]=0.\n",
    "z[0]=0.\n",
    "       \n",
    "#**************** disk ***************************\n",
    "\n",
    "#j=0                                                 A COSA SERVE QUESTO j?\n",
    "\n",
    "#Per ogni punto\n",
    "for i in range(1,Np):\n",
    "    \n",
    "    #x1, y1 e z1 devono rispettare delle condizioni; creo un ciclo while che si ferma quando vengono rispettate\n",
    "    #Per entrare nel while setto le 3 variabili (ed r2) in modo tale da entrare nel ciclo\n",
    "    x1 = L1 + 1\n",
    "    y1 = L2 + 1\n",
    "    z1 = L3 + 1\n",
    "    r2 = 2.\n",
    "    \n",
    "    while(((x1 < -L1) or (x1 > L1)) and ((y1 < -L2) or (y1 > L2)) and ((z1 < -L3) or (z1 > L3)) and (r2 > 1)):\n",
    "        x1=2.*L1*(ran.uniform(0,1)-0.5)\n",
    "        y1=2.*L2*(ran.uniform(0,1)-0.5)\n",
    "        z1=2.*L3*(ran.uniform(0,1)-0.5)\n",
    "        #Non inserisco rz perché non serve per rispettare le 4 condizioni \n",
    "        rx=x1-x[0]\n",
    "        ry=y1-y[0]\n",
    "\n",
    "        r2 = np.sqrt(rx*rx/(L1)**2.+ry*ry/(L2)**2)\n",
    "\n",
    "    #Uscito dal while faccio tutte le assegnazioni\n",
    "    x[i]=x1\n",
    "    y[i]=y1\n",
    "    z[i]=z1\n",
    "    \n",
    "    rx=x[i]-x[0]\n",
    "    ry=y[i]-y[0]\n",
    "    rz=z[i]-z[0]\n",
    "    \n",
    "    r[i] = np.sqrt(rx*rx+ry*ry+rz*rz)\n",
    "    alpha = 180./pi*np.arctan(np.abs(ry)/np.abs(rx))\n",
    "    \n",
    "    \n",
    "    if(r[i] <= 200):\n",
    "        vradial = 0.\n",
    "        vrotation = 100.\n",
    "\n",
    "    else: #---> PARTE DA MODIFICARE\n",
    "        vradial = 0.4*r[i]\n",
    "        vrotation = 000./(r[i]/200.)\n",
    "\n",
    "    vxRd[i] = abs(vradial)*np.abs(rx)/r[i] #radial component \n",
    "    vyRd[i] = abs(vradial)*np.abs(ry)/r[i]\n",
    "    vzRd[i] = abs(vradial)*np.abs(rz)/r[i]\n",
    "\n",
    "    if(rx < 0):\n",
    "        vxRd[i] = -vxRd[i]\n",
    "    if(ry < 0):\n",
    "        vyRd[i] = -vyRd[i]\n",
    "    if(rz < 0):\n",
    "        vzRd[i] = -vzRd[i]\n",
    "\n",
    "\n",
    "#       vRad=sqrt(vxRd(i)*vxRd(i)+vyRd(i)*vyRd(i)+vzRd(i)*vzRd(i))\n",
    "\n",
    "\n",
    "#       vxRt(i)=+(ry)*vrotation/r(i) !clockwise --> anticlockwise invert signs\n",
    "#       vyRt(i)=-(rx)*vrotation/r(i)\n",
    "#       vzRt(i)=0.\n",
    "\n",
    "    vxRt[i] = -(ry)*vrotation/r[i] #anticlockwise --> clockwise invert signs\n",
    "    vyRt[i] = +(rx)*vrotation/r[i]\n",
    "    vzRt[i] = 0.\n",
    "\n",
    "    vRot = np.sqrt(vxRt[i]*vxRt[i]+vyRt[i]*vyRt[i]+vzRt[i]*vzRt[i])\n",
    "\n",
    "    vx[i] = vxRt[i]+vxRd[i]\n",
    "    vy[i] = vyRt[i]+vyRd[i]\n",
    "    vz[i] = vzRt[i]+vzRd[i]\n",
    "\n",
    "    vtot[i] = np.sqrt((vx[i]**2.+(vy[i]**2.+(vz[i]**2.))))\n",
    "\n",
    "    #write(10,*)x(i),y(i),z(i),vx(i),vy(i),vz(i),x8 ---> Questo è il file che poi, prima di questo codice,\n",
    "                                                        #assegnavamo al codice python che proietta sulla\n",
    "                                                        #linea di vista"
   ]
  },
  {
   "cell_type": "markdown",
   "id": "domestic-renaissance",
   "metadata": {},
   "source": [
    "# Al posto di 1): fare rete neurale che genera vradiale (vR) e vcircolare (vT) + l'angolo j, tutti e 3 da dare in input al programma in 2) che generera' la vlinea di vista"
   ]
  },
  {
   "cell_type": "code",
   "execution_count": 99,
   "id": "alike-above",
   "metadata": {},
   "outputs": [],
   "source": [
    "#Vreal = np.loadtxt('file.txt')\n",
    "Vreal = np.zeros((10000))"
   ]
  },
  {
   "cell_type": "code",
   "execution_count": 102,
   "id": "defensive-million",
   "metadata": {},
   "outputs": [
    {
     "name": "stdout",
     "output_type": "stream",
     "text": [
      "Model: \"model_1\"\n",
      "_________________________________________________________________\n",
      "Layer (type)                 Output Shape              Param #   \n",
      "=================================================================\n",
      "input_3 (InputLayer)         [(None, 10000)]           0         \n",
      "_________________________________________________________________\n",
      "dense_12 (Dense)             (None, 500)               5000500   \n",
      "_________________________________________________________________\n",
      "dropout_2 (Dropout)          (None, 500)               0         \n",
      "_________________________________________________________________\n",
      "dense_13 (Dense)             (None, 300)               150300    \n",
      "_________________________________________________________________\n",
      "dense_14 (Dense)             (None, 100)               30100     \n",
      "_________________________________________________________________\n",
      "dense_15 (Dense)             (None, 20001)             2020101   \n",
      "=================================================================\n",
      "Total params: 7,201,001\n",
      "Trainable params: 7,201,001\n",
      "Non-trainable params: 0\n",
      "_________________________________________________________________\n"
     ]
    }
   ],
   "source": [
    "input_layer = keras.Input(shape=(Vreal.shape[0], ))\n",
    "encoder_layer_1 = keras.layers.Dense(500, activation=\"relu\")(input_layer)\n",
    "encoder_layer_2 = keras.layers.Dropout(.2, input_shape=(400,))(encoder_layer_1)\n",
    "encoder_layer_3 = keras.layers.Dense(300, activation=\"relu\")(encoder_layer_2)\n",
    "encoder_layer_4 = keras.layers.Dense(100, activation=\"relu\")(encoder_layer_3)\n",
    "output_layer = keras.layers.Dense(Vreal.shape[0]*2+1, activation=\"sigmoid\")(encoder_layer_4)\n",
    "model = keras.Model(inputs=input_layer, outputs=output_layer)\n",
    "model.summary()\n",
    "#output_layer1 = keras.layers.Dense(Vreal.shape[0], activation=\"sigmoid\")(encoder_layer_4)\n",
    "#output_layer2 = keras.layers.Dense(Vreal.shape[0], activation=\"sigmoid\")(encoder_layer_4)\n",
    "#output_layer3 = keras.layers.Dense(1, activation=\"sigmoid\")(encoder_layer_4)\n",
    "#model = keras.Model(inputs=input_layer, outputs=(output_layer1,output_layer2,output_layer3))"
   ]
  },
  {
   "cell_type": "code",
   "execution_count": null,
   "id": "funded-colors",
   "metadata": {},
   "outputs": [],
   "source": [
    "# Optimizer,loss, metrics and compile the model\n",
    "# learning rate\n",
    "LR_ST=1e-3\n",
    "# Optimizer:\n",
    "OPTIMIZER = tf.keras.optimizers.Adam(learning_rate=LR_ST)\n",
    "# Loss function:\n",
    "LOSS = tf.keras.losses.BinaryCrossentropy(from_logits=False)\n",
    "METRIC = [tf.keras.metrics.BinaryCrossentropy()]\n",
    "# Model\n",
    "model.compile(optimizer=OPTIMIZER, loss=LOSS, metrics=METRIC)"
   ]
  },
  {
   "cell_type": "markdown",
   "id": "major-thought",
   "metadata": {},
   "source": [
    "# 2) Proiezione lungo la linea di vista (è già file python, quindi dovrebbe essere semplice)"
   ]
  },
  {
   "cell_type": "code",
   "execution_count": null,
   "id": "subtle-recall",
   "metadata": {},
   "outputs": [],
   "source": [
    "I = Iinput/180.*np.pi\n",
    "J = Jinput/180.*np.pi\n",
    "Vloss = vT*np.sin(I)*np.cos(J)+vR*(np.sin(I)*np.sin(J))"
   ]
  },
  {
   "cell_type": "code",
   "execution_count": null,
   "id": "incorporate-cornwall",
   "metadata": {},
   "outputs": [],
   "source": []
  }
 ],
 "metadata": {
  "kernelspec": {
   "display_name": "Python 3",
   "language": "python",
   "name": "python3"
  },
  "language_info": {
   "codemirror_mode": {
    "name": "ipython",
    "version": 3
   },
   "file_extension": ".py",
   "mimetype": "text/x-python",
   "name": "python",
   "nbconvert_exporter": "python",
   "pygments_lexer": "ipython3",
   "version": "3.6.9"
  }
 },
 "nbformat": 4,
 "nbformat_minor": 5
}
